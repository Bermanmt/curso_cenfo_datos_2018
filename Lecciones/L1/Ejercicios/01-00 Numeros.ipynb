{
 "cells": [
  {
   "cell_type": "markdown",
   "metadata": {},
   "source": [
    "# Números en Python\n",
    "\n",
    "En esta hoja se aprende de:\n",
    "\n",
    "    1. Tipos de numeros en python\n",
    "    2. Aritmetica basica\n",
    "    3. Diferencia entre \"Division\" y \"Floor Division\"\n",
    "    "
   ]
  },
  {
   "cell_type": "markdown",
   "metadata": {},
   "source": [
    "En python se puede hacer cualquier operación matemática que se desee. Puede funcionar perfectamente como una calculadora. Existen cuatro tipos de números en Python, pero para efectos del curso nos vamos a enfocar en dos:\n",
    "\n",
    "    - Integers (int): Números enteros y sin decimal\n",
    "    - Floats (float): Números con decimales "
   ]
  },
  {
   "cell_type": "markdown",
   "metadata": {},
   "source": [
    "<table>\n",
    "<tr>\n",
    "    <th>Ejemplos</th> \n",
    "    <th>\"Type\"</th>\n",
    "</tr>\n",
    "\n",
    "<tr>\n",
    "    <td>1,2,-5,1000</td>\n",
    "    <td>Integers</td> \n",
    "</tr>\n",
    "\n",
    "<tr>\n",
    "    <td>1.2,-0.5,2e2,3E2</td> \n",
    "    <td>Floating-point numbers</td> \n",
    "</tr>\n",
    " </table>"
   ]
  },
  {
   "cell_type": "markdown",
   "metadata": {},
   "source": [
    "## Aritmética Básica"
   ]
  },
  {
   "cell_type": "markdown",
   "metadata": {},
   "source": [
    "#### Sumas"
   ]
  },
  {
   "cell_type": "code",
   "execution_count": 29,
   "metadata": {},
   "outputs": [
    {
     "data": {
      "text/plain": [
       "6"
      ]
     },
     "execution_count": 29,
     "metadata": {},
     "output_type": "execute_result"
    }
   ],
   "source": [
    "2+4"
   ]
  },
  {
   "cell_type": "code",
   "execution_count": 30,
   "metadata": {},
   "outputs": [
    {
     "data": {
      "text/plain": [
       "1028"
      ]
     },
     "execution_count": 30,
     "metadata": {},
     "output_type": "execute_result"
    }
   ],
   "source": [
    "1023+2+3"
   ]
  },
  {
   "cell_type": "markdown",
   "metadata": {},
   "source": [
    "#### Restas"
   ]
  },
  {
   "cell_type": "code",
   "execution_count": 33,
   "metadata": {},
   "outputs": [
    {
     "data": {
      "text/plain": [
       "-4"
      ]
     },
     "execution_count": 33,
     "metadata": {},
     "output_type": "execute_result"
    }
   ],
   "source": [
    "4-5-3"
   ]
  },
  {
   "cell_type": "code",
   "execution_count": null,
   "metadata": {},
   "outputs": [],
   "source": []
  },
  {
   "cell_type": "markdown",
   "metadata": {},
   "source": [
    "#### Multiplicación"
   ]
  },
  {
   "cell_type": "code",
   "execution_count": 34,
   "metadata": {},
   "outputs": [
    {
     "data": {
      "text/plain": [
       "24"
      ]
     },
     "execution_count": 34,
     "metadata": {},
     "output_type": "execute_result"
    }
   ],
   "source": [
    "4*3*2"
   ]
  },
  {
   "cell_type": "code",
   "execution_count": null,
   "metadata": {},
   "outputs": [],
   "source": []
  },
  {
   "cell_type": "markdown",
   "metadata": {},
   "source": [
    "#### División"
   ]
  },
  {
   "cell_type": "code",
   "execution_count": 36,
   "metadata": {},
   "outputs": [
    {
     "data": {
      "text/plain": [
       "0.8"
      ]
     },
     "execution_count": 36,
     "metadata": {},
     "output_type": "execute_result"
    }
   ],
   "source": [
    "#Division\n",
    "4/5"
   ]
  },
  {
   "cell_type": "markdown",
   "metadata": {},
   "source": [
    "#### Floor Division\n",
    "\n",
    "Floor division es una division que redondea el resultado hacia abajo"
   ]
  },
  {
   "cell_type": "code",
   "execution_count": 37,
   "metadata": {},
   "outputs": [
    {
     "data": {
      "text/plain": [
       "2"
      ]
     },
     "execution_count": 37,
     "metadata": {},
     "output_type": "execute_result"
    }
   ],
   "source": [
    " 8//3"
   ]
  },
  {
   "cell_type": "code",
   "execution_count": 35,
   "metadata": {},
   "outputs": [
    {
     "data": {
      "text/plain": [
       "0"
      ]
     },
     "execution_count": 35,
     "metadata": {},
     "output_type": "execute_result"
    }
   ],
   "source": [
    "#Hay un tipo de division que se llama floor division que lo que hace es redondear los numeros que se dividen hacia abajo\n",
    "4//5"
   ]
  },
  {
   "cell_type": "code",
   "execution_count": null,
   "metadata": {},
   "outputs": [],
   "source": []
  },
  {
   "cell_type": "code",
   "execution_count": null,
   "metadata": {},
   "outputs": [],
   "source": []
  },
  {
   "cell_type": "markdown",
   "metadata": {},
   "source": [
    "**Es importante saber que python hace la aproximacion a la fraccion binaria mas cercana y hay que saber \n",
    "esto cuando estemos haciendo comparaciones de numeros pueden leer más sobre este tema en este link:\n",
    "https://docs.python.org/3.4/tutorial/floatingpoint.html**"
   ]
  },
  {
   "cell_type": "code",
   "execution_count": 38,
   "metadata": {},
   "outputs": [
    {
     "data": {
      "text/plain": [
       "False"
      ]
     },
     "execution_count": 38,
     "metadata": {},
     "output_type": "execute_result"
    }
   ],
   "source": [
    "# Esto deberia devolver TRUE\n",
    "0.1+0.1+0.1 == 0.3"
   ]
  },
  {
   "cell_type": "markdown",
   "metadata": {},
   "source": [
    "#### Módulo \n",
    "Me da el reciduo que se obtiene después de realizar una división"
   ]
  },
  {
   "cell_type": "code",
   "execution_count": 39,
   "metadata": {},
   "outputs": [
    {
     "data": {
      "text/plain": [
       "3"
      ]
     },
     "execution_count": 39,
     "metadata": {},
     "output_type": "execute_result"
    }
   ],
   "source": [
    "# El residuo es el numero que queda despues de que se hace la division\n",
    "\n",
    "7%4"
   ]
  },
  {
   "cell_type": "code",
   "execution_count": 16,
   "metadata": {},
   "outputs": [
    {
     "data": {
      "text/plain": [
       "0"
      ]
     },
     "execution_count": 16,
     "metadata": {},
     "output_type": "execute_result"
    }
   ],
   "source": [
    "120%3"
   ]
  },
  {
   "cell_type": "code",
   "execution_count": 17,
   "metadata": {},
   "outputs": [
    {
     "data": {
      "text/plain": [
       "2"
      ]
     },
     "execution_count": 17,
     "metadata": {},
     "output_type": "execute_result"
    }
   ],
   "source": [
    "122%3"
   ]
  },
  {
   "cell_type": "markdown",
   "metadata": {},
   "source": [
    "#### Operaciones exponenciales\n",
    "Se pueden realizar operaciones con exponenciales n <sup>x</sup>\n"
   ]
  },
  {
   "cell_type": "code",
   "execution_count": 19,
   "metadata": {},
   "outputs": [
    {
     "data": {
      "text/plain": [
       "32"
      ]
     },
     "execution_count": 19,
     "metadata": {},
     "output_type": "execute_result"
    }
   ],
   "source": [
    "# En este caso utilizando 2^5 seria\n",
    "2**5"
   ]
  },
  {
   "cell_type": "code",
   "execution_count": 20,
   "metadata": {},
   "outputs": [
    {
     "data": {
      "text/plain": [
       "1.7320508075688772"
      ]
     },
     "execution_count": 20,
     "metadata": {},
     "output_type": "execute_result"
    }
   ],
   "source": [
    "#Funciona de igual forma con exponenciales decimales, lo cual es el equivalente a hacer raices\n",
    "3**0.5"
   ]
  },
  {
   "cell_type": "code",
   "execution_count": 21,
   "metadata": {},
   "outputs": [
    {
     "data": {
      "text/plain": [
       "2.0"
      ]
     },
     "execution_count": 21,
     "metadata": {},
     "output_type": "execute_result"
    }
   ],
   "source": [
    "4**0.5"
   ]
  },
  {
   "cell_type": "markdown",
   "metadata": {},
   "source": [
    "#### Python permite realizar secuencias de operaciones siguiendo todas las reglas de la aritmetica\n",
    "\n",
    "Se siguen las reglas de herarquia de las operaciones matematicas:\n",
    "    1. Parentesis\n",
    "    2. Exponenciales\n",
    "    3. Multiplicacion\n",
    "    4. Division\n",
    "    5. Suma\n",
    "    6. Resta"
   ]
  },
  {
   "cell_type": "code",
   "execution_count": 22,
   "metadata": {},
   "outputs": [
    {
     "data": {
      "text/plain": [
       "4122"
      ]
     },
     "execution_count": 22,
     "metadata": {},
     "output_type": "execute_result"
    }
   ],
   "source": [
    "#1+5*5+(4*4)**3\n",
    "#1+5*5+16**3\n",
    "#1+5*5+4096\n",
    "#1+25+4096 = 4122\n",
    "\n",
    "1+5*5+(4*4)**3"
   ]
  },
  {
   "cell_type": "code",
   "execution_count": 24,
   "metadata": {},
   "outputs": [
    {
     "data": {
      "text/plain": [
       "82478069067335750326449753843428354872994543458634536902754527042578451135612878054833415322690828846842735958908995223559096228483238586647056671143810488841779632635205489408081924625782762176913309417372626584629196403124729188148134640042326031539103137339508993681664116980147728281624269549776474586130628322438919223248338252198419810169852839808275032174660042853052972712725603308340714928296399957759071579333165906278321161430790694041674114476415035726019398217003742898274202382427064798923162137647383602741219702606264999092369106011721620302249038531812442569998564093069275704521214308648220887181881229298948014169398704176015346361813847636624807504795822479818985791392380475769387753445057089731467286306152938829005263832089687592828380958346573969763653508958940536950689475094465309237645642609107282788195303230882334599392556487690030634394699162209429966078320422672677220491208573458247292736649326292744968692624148314709720660558229231156865593602657878752982709108353483116882623007999248728922229098090994055765736771908671042504070005230677045289196717840855609566093960762442392435043721302536590214610274989643577617796076075597097382727775934144386739035724846925566389142989305339559479748821963386013040645790895703319889059583282146745141061663348757197344249039556410092528761997456581592795240352459267611551922093354159084547964778679061142379659877383085138150611456149166918110640982898765638523163127382208692738818572232646874271806844968750714975211538318799132404177854067887973765601827217655182415814204656512510897374783727418496064537948992133692972607658310196742648971198362331925652534378880095480823995726137583576215003458562880263835444019300104327933005571260290841230230441130552219898139964193110150322461834472686434000189116995035876925329501017616349481718513426344076649448518484677612789738896732076722676717835223762453892919747160023510432518053761257865107885899434787102571013327088003983831088767341417971981045418657548130252572696965427669145518457326719019684593503607844696418471750425373268499284567174270299632985845832848044352454790918518127100599880461018539348648325741972761974575842966495207822627361233756992764523474187271128106634298486657737546405424287442100813722340703973026043337800625260123760817434291839837785382058465801829430257540639636983203749869608138201455220126049100191530584701056062242351437553044993643551064124683345318975181001143220176280244129603758079390161007626590763192081555048221929556793335489943687930147177482936455262064552400935096876444415839733510293427968978733365001586405250304895649367523592992784777336086369718216567146175358137346959360696699737861655643592100786200066203453176990192831536123339714377935413515325080007552085853583671973586220672653677164231213226044577498438689917861316769745557619404016631655240743749779799189718462131144162256333422634138428442353841366297086183371739532954521270632728106324902334360590392043095097709069933735432333268235091085634868368102912098354966467807040908572028459981847644475443196042034218293957558474061805044924931451449222721306191429988203631125494967086791884665997291133104104650610323126411500946139109500111235893148508760945964673909829061324191449682008486584867649212751918947059995894284245700498276350533124098312005637256317716039664982612703121248398107082592585298631591637128064345335682314527337147288968256468584778007534977930805635461688838450695404656023802391872439524833544709712571266031763390234394915245491777600505795606837931961670236426189702139020212635347106603554940851979562660181086484955221214494080660054743982684616181451243117079469348779804466070024502013192623331892755386326989018591274297537796609148896500222029151022543872964073290203136"
      ]
     },
     "execution_count": 24,
     "metadata": {},
     "output_type": "execute_result"
    }
   ],
   "source": [
    "# Se pueden usar parentesis para priorizar operaciones\n",
    "(4+3+4)*2**(4*5**5)"
   ]
  },
  {
   "cell_type": "markdown",
   "metadata": {},
   "source": [
    "## Funciones complejas"
   ]
  },
  {
   "cell_type": "markdown",
   "metadata": {},
   "source": [
    "#### Convertir de Celsius a Farenheit\n",
    "\n",
    "La ecuacion para convertir de C a F es: \n",
    "\n",
    "c*9/5 + 32\n",
    "\n",
    "Hagamos el ejercicio de convertir 40C a F"
   ]
  },
  {
   "cell_type": "code",
   "execution_count": 26,
   "metadata": {},
   "outputs": [
    {
     "data": {
      "text/plain": [
       "104.0"
      ]
     },
     "execution_count": 26,
     "metadata": {},
     "output_type": "execute_result"
    }
   ],
   "source": [
    "40 * 9/5 + 32"
   ]
  },
  {
   "cell_type": "markdown",
   "metadata": {},
   "source": [
    "Conviertan 34C a F"
   ]
  },
  {
   "cell_type": "code",
   "execution_count": null,
   "metadata": {},
   "outputs": [],
   "source": []
  }
 ],
 "metadata": {
  "kernelspec": {
   "display_name": "Python 3",
   "language": "python",
   "name": "python3"
  },
  "language_info": {
   "codemirror_mode": {
    "name": "ipython",
    "version": 3
   },
   "file_extension": ".py",
   "mimetype": "text/x-python",
   "name": "python",
   "nbconvert_exporter": "python",
   "pygments_lexer": "ipython3",
   "version": "3.6.3"
  }
 },
 "nbformat": 4,
 "nbformat_minor": 2
}
